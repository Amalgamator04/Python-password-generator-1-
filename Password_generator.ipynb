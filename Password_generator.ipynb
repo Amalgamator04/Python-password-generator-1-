{
  "nbformat": 4,
  "nbformat_minor": 0,
  "metadata": {
    "colab": {
      "provenance": []
    },
    "kernelspec": {
      "name": "python3",
      "display_name": "Python 3"
    },
    "language_info": {
      "name": "python"
    }
  },
  "cells": [
    {
      "cell_type": "code",
      "execution_count": 23,
      "metadata": {
        "id": "x5ocJgbW6Aqh"
      },
      "outputs": [],
      "source": [
        "import random\n",
        "import string"
      ]
    },
    {
      "cell_type": "code",
      "source": [
        "s1=list(string.ascii_lowercase)\n",
        "s2=list(string.ascii_uppercase)\n",
        "s3=list(string.digits)\n",
        "s4=list(string.punctuation)\n",
        "s5=list(string.octdigits)"
      ],
      "metadata": {
        "id": "6eAtJJnOEvlZ"
      },
      "execution_count": 24,
      "outputs": []
    },
    {
      "cell_type": "code",
      "source": [
        "\n",
        "size=int(input(\"Enter the length of password you want::\"))\n",
        "s=[]\n",
        "s.extend(s1)\n",
        "s.extend(s2)\n",
        "s.extend(s3)\n",
        "s.extend(s4)\n",
        "s.extend(s5)\n",
        "\n",
        "random.shuffle(s)\n",
        "print(\"\".join(s[0:size]))\n",
        "\n"
      ],
      "metadata": {
        "colab": {
          "base_uri": "https://localhost:8080/"
        },
        "id": "trX2nmmaGtRw",
        "outputId": "0853ee9a-df7d-4cc9-ce42-3600e6df987c"
      },
      "execution_count": 25,
      "outputs": [
        {
          "output_type": "stream",
          "name": "stdout",
          "text": [
            "Enter the length of password you want::15\n",
            "_(*u1!|.2pa\\7nH\n"
          ]
        }
      ]
    },
    {
      "cell_type": "code",
      "source": [],
      "metadata": {
        "id": "BWPDLBZzGwIq"
      },
      "execution_count": 25,
      "outputs": []
    }
  ]
}